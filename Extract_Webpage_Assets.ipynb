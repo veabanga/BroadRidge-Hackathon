{
  "nbformat": 4,
  "nbformat_minor": 0,
  "metadata": {
    "colab": {
      "provenance": [],
      "authorship_tag": "ABX9TyOD3ZEztOsPQpFvtJG8f50b",
      "include_colab_link": true
    },
    "kernelspec": {
      "name": "python3",
      "display_name": "Python 3"
    },
    "language_info": {
      "name": "python"
    }
  },
  "cells": [
    {
      "cell_type": "markdown",
      "metadata": {
        "id": "view-in-github",
        "colab_type": "text"
      },
      "source": [
        "<a href=\"https://colab.research.google.com/github/veabanga/Capstone/blob/master/Extract_Webpage_Assets.ipynb\" target=\"_parent\"><img src=\"https://colab.research.google.com/assets/colab-badge.svg\" alt=\"Open In Colab\"/></a>"
      ]
    },
    {
      "cell_type": "code",
      "execution_count": null,
      "metadata": {
        "id": "0g-th00uMdNu"
      },
      "outputs": [],
      "source": [
        "!apt-get update\n",
        "!apt-get install -y wkhtmltopdf\n",
        "!pip install pdfkit"
      ]
    },
    {
      "cell_type": "code",
      "source": [
        "import pdfkit"
      ],
      "metadata": {
        "id": "yc7VW7KBhSI8"
      },
      "execution_count": null,
      "outputs": []
    },
    {
      "cell_type": "code",
      "source": [
        "# Define the URL of the webpage you want to convert\n",
        "url = 'https://en.wikipedia.org/wiki/List_of_countries_by_population_(United_Nations)'  # Replace with the desired URL\n",
        "\n",
        "# Define the path to save the PDF file\n",
        "output_path = '/content/webpage.pdf'  # Update with the desired path and filename\n",
        "\n",
        "# Convert the webpage to PDF\n",
        "pdfkit.from_url(url, output_path)\n",
        "\n",
        "print(\"Webpage converted to PDF successfully!\")\n"
      ],
      "metadata": {
        "colab": {
          "base_uri": "https://localhost:8080/"
        },
        "id": "TFybPwVDhUwr",
        "outputId": "d95f3e32-cc54-466c-fb82-619a5434bff3"
      },
      "execution_count": null,
      "outputs": [
        {
          "output_type": "stream",
          "name": "stdout",
          "text": [
            "Webpage converted to PDF successfully!\n"
          ]
        }
      ]
    },
    {
      "cell_type": "code",
      "source": [
        "import requests\n",
        "from bs4 import BeautifulSoup\n",
        "import csv\n",
        "\n",
        "# Define the URL of the webpage\n",
        "url = 'https://en.wikipedia.org/wiki/List_of_countries_by_population_(United_Nations)'\n",
        "\n",
        "# Send a GET request to the webpage and retrieve its HTML content\n",
        "response = requests.get(url)\n",
        "html_content = response.text\n",
        "\n",
        "# Create a BeautifulSoup object to parse the HTML\n",
        "soup = BeautifulSoup(html_content, 'html.parser')\n",
        "\n",
        "# Find the table element\n",
        "table = soup.find('table')\n",
        "\n",
        "# Extract table data\n",
        "data = []\n",
        "for row in table.find_all('tr'):\n",
        "    row_data = [cell.get_text(strip=True) for cell in row.find_all('td')]\n",
        "    if row_data:\n",
        "        data.append(row_data)\n",
        "\n",
        "# Save the table data to a CSV file\n",
        "filename = 'table_data.csv'\n",
        "with open(filename, 'w', newline='') as file:\n",
        "    writer = csv.writer(file)\n",
        "    writer.writerows(data)\n",
        "\n",
        "print(f\"Table data saved to '{filename}'\")\n"
      ],
      "metadata": {
        "colab": {
          "base_uri": "https://localhost:8080/"
        },
        "id": "hebUg-5UkS_H",
        "outputId": "2dc25777-42ca-4efa-8715-7384c37f5837"
      },
      "execution_count": null,
      "outputs": [
        {
          "output_type": "stream",
          "name": "stdout",
          "text": [
            "Table data saved to 'table_data.csv'\n"
          ]
        }
      ]
    },
    {
      "cell_type": "code",
      "source": [
        "!pip install PyPDF2\n",
        "!pip install pdf2image\n",
        "!apt-get install poppler-utils -y"
      ],
      "metadata": {
        "id": "X81ZJo6Cl4JN"
      },
      "execution_count": null,
      "outputs": []
    },
    {
      "cell_type": "code",
      "source": [
        "import os\n",
        "from PyPDF2 import PdfReader\n",
        "from pdf2image import convert_from_path\n",
        "\n",
        "# Define the path to the PDF file\n",
        "pdf_path = '/content/webpage.pdf'  # Update with the path to your PDF file\n",
        "\n",
        "# Create a directory to store the extracted images\n",
        "os.makedirs('extracted_images', exist_ok=True)\n",
        "\n",
        "# Open the PDF file\n",
        "with open(pdf_path, 'rb') as f:\n",
        "    pdf = PdfReader(f)\n",
        "\n",
        "    # Iterate over each page in the PDF\n",
        "    for page_num in range(len(pdf.pages)):\n",
        "        # Convert the PDF page to an image\n",
        "        images = convert_from_path(pdf_path, dpi=200, first_page=page_num+1, last_page=page_num+1)\n",
        "\n",
        "        # Save each extracted image\n",
        "        for index, image in enumerate(images):\n",
        "            image.save(f'extracted_images/page{page_num+1}_image{index+1}.jpg', 'JPEG')\n",
        "\n",
        "print(\"Images extracted successfully!\")\n"
      ],
      "metadata": {
        "colab": {
          "base_uri": "https://localhost:8080/"
        },
        "id": "y9FpSe2klozr",
        "outputId": "50916ba7-5ed8-41b5-bcd3-c3a75a94b7c0"
      },
      "execution_count": null,
      "outputs": [
        {
          "output_type": "stream",
          "name": "stdout",
          "text": [
            "Images extracted successfully!\n"
          ]
        }
      ]
    },
    {
      "cell_type": "code",
      "source": [
        "from PyPDF2 import PdfReader\n",
        "\n",
        "# Define the path to the PDF file\n",
        "pdf_path = '/content/webpage.pdf'  # Update with the path to your PDF file\n",
        "# Define the path to save the text file\n",
        "text_file_path = '/content/extracted_text.txt'\n",
        "# Open the PDF file\n",
        "with open(pdf_path, 'rb') as f:\n",
        "    pdf = PdfReader(f)\n",
        "\n",
        "  # Open the text file to write the extracted text\n",
        "    with open(text_file_path, 'w') as text_file:\n",
        "    # Iterate over each page in the PDF\n",
        "      for page_number in range(len(pdf.pages)):\n",
        "          page = pdf.pages[page_number]\n",
        "\n",
        "          # Extract the text from the page\n",
        "          text = page.extract_text()\n",
        "\n",
        "          # Write the extracted text to the text file\n",
        "          text_file.write(f\"Page {page_number+1}:\\n\")\n",
        "          text_file.write(text)\n",
        "          text_file.write(\"\\n\\n\")\n",
        "\n",
        "print(\"Text extracted and saved successfully!\")\n",
        "\n"
      ],
      "metadata": {
        "colab": {
          "base_uri": "https://localhost:8080/"
        },
        "id": "Bz6-9lNknQkt",
        "outputId": "7b56b26b-7b2e-4449-c4cd-3acb3f15befd"
      },
      "execution_count": null,
      "outputs": [
        {
          "output_type": "stream",
          "name": "stdout",
          "text": [
            "Text extracted and saved successfully!\n"
          ]
        }
      ]
    }
  ]
}